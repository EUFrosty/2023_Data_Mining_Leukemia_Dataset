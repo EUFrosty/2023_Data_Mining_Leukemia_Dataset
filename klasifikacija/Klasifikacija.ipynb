{
 "cells": [
  {
   "cell_type": "code",
   "execution_count": 8,
   "id": "9cebf9ed",
   "metadata": {},
   "outputs": [],
   "source": [
    "import pandas as pd\n",
    "import seaborn as sb\n",
    "import numpy as np\n",
    "import matplotlib.pyplot as plt\n",
    "from sklearn.model_selection import train_test_split"
   ]
  },
  {
   "cell_type": "code",
   "execution_count": 2,
   "id": "26302b99",
   "metadata": {},
   "outputs": [],
   "source": [
    "data = pd.read_csv(\"Leukemia.csv\")"
   ]
  },
  {
   "cell_type": "code",
   "execution_count": 3,
   "id": "1260234b",
   "metadata": {},
   "outputs": [],
   "source": [
    "labels = data['type']\n",
    "data = data.drop('type', axis = 'columns')"
   ]
  },
  {
   "cell_type": "markdown",
   "id": "d0cddb35",
   "metadata": {},
   "source": [
    "Izbacujemo kolonu sa tipovima leukemije jer je to nasa ciljnja kolona, ali je cuvamo kako bi kasnijemogli da radimo proveru"
   ]
  },
  {
   "cell_type": "code",
   "execution_count": 9,
   "id": "03cdc007",
   "metadata": {},
   "outputs": [],
   "source": [
    "x_train, x_test, y_train, y_split = train_test_split(data, labels, test_size = 0.2, random_state = 42)"
   ]
  },
  {
   "cell_type": "markdown",
   "id": "b1684316",
   "metadata": {},
   "source": [
    "Podatke i njihove labele (tipove) smo podelili na train i test skupove"
   ]
  },
  {
   "cell_type": "code",
   "execution_count": null,
   "id": "1de2ef2e",
   "metadata": {},
   "outputs": [],
   "source": []
  }
 ],
 "metadata": {
  "kernelspec": {
   "display_name": "Python 3 (ipykernel)",
   "language": "python",
   "name": "python3"
  },
  "language_info": {
   "codemirror_mode": {
    "name": "ipython",
    "version": 3
   },
   "file_extension": ".py",
   "mimetype": "text/x-python",
   "name": "python",
   "nbconvert_exporter": "python",
   "pygments_lexer": "ipython3",
   "version": "3.10.6"
  }
 },
 "nbformat": 4,
 "nbformat_minor": 5
}
